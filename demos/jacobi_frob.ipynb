{
 "cells": [
  {
   "cell_type": "code",
   "execution_count": null,
   "id": "5350e50b-62a6-4665-9982-088d7a47f28b",
   "metadata": {},
   "outputs": [],
   "source": [
    "import torch\n",
    "import torch.linalg as tla\n",
    "import numpy as np\n",
    "import matplotlib.pyplot as plt\n",
    "import numml.sparse as sp"
   ]
  },
  {
   "cell_type": "code",
   "execution_count": null,
   "id": "47429021-b9bc-4b6d-87e6-bb52a82e01e4",
   "metadata": {},
   "outputs": [],
   "source": [
    "# Create our favorite poisson operator\n",
    "\n",
    "N = 16\n",
    "A = sp.eye(N)*2. - sp.eye(N, k=1) - sp.eye(N, k=-1)"
   ]
  },
  {
   "cell_type": "code",
   "execution_count": null,
   "id": "e69adad1-97a8-43b9-985a-5cc143d4e849",
   "metadata": {},
   "outputs": [],
   "source": [
    "Dinv = sp.diag(1./A.diagonal())"
   ]
  },
  {
   "cell_type": "code",
   "execution_count": null,
   "id": "4426d81c-65ae-46f7-a9a0-b2719c80e07c",
   "metadata": {},
   "outputs": [],
   "source": [
    "def err_prop_1(omega):\n",
    "    G = sp.eye(N) - sp.diag(omega) @ Dinv @ A\n",
    "    return (G.T@G).trace()\n",
    "\n",
    "def err_prop_2(omega):\n",
    "    G = sp.eye(N) - sp.diag(omega) @ A\n",
    "    return (G.T@G).trace()"
   ]
  },
  {
   "cell_type": "code",
   "execution_count": null,
   "id": "9c410ca3-ff6c-45df-bd6a-32ff53f1dd9b",
   "metadata": {},
   "outputs": [],
   "source": [
    "omega = torch.ones(N, requires_grad=True)\n",
    "\n",
    "optimizer = torch.optim.Adam([omega], lr=1e-2)\n",
    "batch = 20\n",
    "lh = []\n",
    "oh = []\n",
    "\n",
    "for i in range(100):\n",
    "    optimizer.zero_grad()\n",
    "    \n",
    "    loss = err_prop_1(omega)\n",
    "    loss.backward()\n",
    "    \n",
    "    optimizer.step()\n",
    "    \n",
    "    lh.append(loss.item())\n",
    "    oh.append(omega.detach().numpy().copy())\n",
    "    if i % 10 == 0:\n",
    "        print(i, 'loss:', round(loss.item(), 3), 'omega:', torch.round(omega.detach(), decimals=2))\n",
    "\n",
    "Lh = np.array(lh)\n",
    "Oh = np.array(oh)\n",
    "\n",
    "plt.figure(figsize=(6, 5))\n",
    "\n",
    "plt.figure()\n",
    "plt.plot(Lh, 'k')\n",
    "plt.xlabel('Iteration')\n",
    "plt.ylabel('Loss')\n",
    "plt.grid()\n",
    "\n",
    "ax2 = plt.gca().twinx()\n",
    "ax2.plot(Oh)\n",
    "ax2.set_ylabel('Jacobi Weight')\n",
    "\n",
    "plt.figure(figsize=(6, 3))\n",
    "plt.title('Entry-wise Jacobi weights (w/ D^{-1})')\n",
    "plt.plot(omega.detach(), 'o-')\n",
    "plt.ylim(0.3, 1)\n",
    "plt.xlabel('Node')\n",
    "plt.ylabel('Jacobi Weight')\n",
    "plt.grid()"
   ]
  },
  {
   "cell_type": "code",
   "execution_count": null,
   "id": "a1a529a8-cd93-44c4-812d-95f9b5935adc",
   "metadata": {},
   "outputs": [],
   "source": [
    "omega = torch.ones(N, requires_grad=True)\n",
    "with torch.no_grad():\n",
    "    omega /= 2.\n",
    "\n",
    "optimizer = torch.optim.Adam([omega], lr=1e-2)\n",
    "batch = 20\n",
    "lh = []\n",
    "oh = []\n",
    "\n",
    "for i in range(100):\n",
    "    optimizer.zero_grad()\n",
    "    \n",
    "    loss = err_prop_2(omega)\n",
    "    loss.backward()\n",
    "    \n",
    "    optimizer.step()\n",
    "    \n",
    "    lh.append(loss.item())\n",
    "    oh.append(omega.detach().numpy().copy())\n",
    "    if i % 10 == 0:\n",
    "        print(i, 'loss:', round(loss.item(), 3), 'omega:', torch.round(omega.detach(), decimals=2))\n",
    "\n",
    "Lh = np.array(lh)\n",
    "Oh = np.array(oh)\n",
    "\n",
    "plt.figure(figsize=(6, 5))\n",
    "\n",
    "plt.figure()\n",
    "plt.plot(Lh, 'k')\n",
    "plt.xlabel('Iteration')\n",
    "plt.ylabel('Loss')\n",
    "plt.grid()\n",
    "\n",
    "ax2 = plt.gca().twinx()\n",
    "ax2.plot(Oh)\n",
    "ax2.set_ylabel('Jacobi Weight')\n",
    "\n",
    "plt.figure(figsize=(6, 3))\n",
    "plt.title('Entry-wise Jacobi weights (w/o D^{-1})')\n",
    "plt.plot(omega.detach(), 'o-')\n",
    "plt.ylim(0.3, 1)\n",
    "plt.xlabel('Node')\n",
    "plt.ylabel('Jacobi Weight')\n",
    "plt.grid()"
   ]
  },
  {
   "cell_type": "code",
   "execution_count": null,
   "id": "9cea5a3d-4e9e-4b07-9cde-9ae46153906c",
   "metadata": {},
   "outputs": [],
   "source": []
  }
 ],
 "metadata": {
  "kernelspec": {
   "display_name": "Python 3 (ipykernel)",
   "language": "python",
   "name": "python3"
  },
  "language_info": {
   "codemirror_mode": {
    "name": "ipython",
    "version": 3
   },
   "file_extension": ".py",
   "mimetype": "text/x-python",
   "name": "python",
   "nbconvert_exporter": "python",
   "pygments_lexer": "ipython3",
   "version": "3.11.2"
  }
 },
 "nbformat": 4,
 "nbformat_minor": 5
}
