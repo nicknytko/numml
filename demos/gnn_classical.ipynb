{
 "cells": [
  {
   "cell_type": "code",
   "execution_count": null,
   "id": "b256cb75-150c-4a97-96df-c55dff1ce144",
   "metadata": {},
   "outputs": [],
   "source": [
    "import torch_geometric.datasets\n",
    "import torch\n",
    "import numml.sparse as sp\n",
    "import torch.nn as tNN\n",
    "import numml.nn as nNN\n",
    "import matplotlib.pyplot as plt"
   ]
  },
  {
   "cell_type": "code",
   "execution_count": null,
   "id": "3eed26e8-fcb9-4ead-9350-f7a36fefd7d3",
   "metadata": {},
   "outputs": [],
   "source": [
    "# Use CUDA if we have access to it\n",
    "device = (torch.device('cuda:0') if torch.cuda.is_available() else torch.device('cpu'))"
   ]
  },
  {
   "cell_type": "code",
   "execution_count": null,
   "id": "7c131c6a-3946-496b-8233-935e4ebebc39",
   "metadata": {},
   "outputs": [],
   "source": [
    "# few helper functions to massage the data\n",
    "def tg_data_to_spmatrix(data):\n",
    "    mat_data = None\n",
    "    if data.edge_attr is not None:\n",
    "        mat_data = data.edge_attr\n",
    "    else:\n",
    "        mat_data = torch.ones(data.edge_index.shape[1])\n",
    "    return sp.SparseCSRTensor((mat_data, (data.edge_index[0], data.edge_index[1])), (data.x.shape[0], data.x.shape[0]))\n",
    "\n",
    "def class_to_onehot(y):\n",
    "    classes = (torch.max(y) - torch.min(y) + 1).item()\n",
    "    z = torch.zeros(len(y), classes, device=y.device)\n",
    "    z[torch.arange(len(y), device=y.device), y] = 1.\n",
    "    return z\n",
    "\n",
    "def restriction_mat(b):\n",
    "    N = len(b)\n",
    "    N_r = torch.sum(b)\n",
    "    \n",
    "    rows = torch.arange(N_r, device=device)\n",
    "    cols = torch.where(b)[0].to(device)\n",
    "    \n",
    "    return sp.SparseCSRTensor((torch.ones(N_r, device=device), (rows, cols)), shape=(N_r, N)).to(device)"
   ]
  },
  {
   "cell_type": "code",
   "execution_count": null,
   "id": "b6b4f87a-39a5-4049-841d-ffe8f59cd32b",
   "metadata": {},
   "outputs": [],
   "source": [
    "# Get the data into a nice format\n",
    "dataset = torch_geometric.datasets.Planetoid(root='/tmp/citeseer', name='CiteSeer').data\n",
    "G = tg_data_to_spmatrix(dataset).to(device)\n",
    "y = dataset.y.to(device)\n",
    "y_oh = class_to_onehot(y)\n",
    "x = dataset.x.to(device)\n",
    "\n",
    "# Create train/test split\n",
    "N = dataset.x.shape[0]\n",
    "train_p = 0.8\n",
    "train_mask = torch.bernoulli(torch.ones(N)*train_p).bool()\n",
    "test_mask = torch.logical_not(train_mask)\n",
    "\n",
    "y_tr = y[train_mask]\n",
    "y_te = y[test_mask]\n",
    "y_oh_tr = y_oh[train_mask]\n",
    "y_oh_te = y_oh[test_mask]\n",
    "x_tr = x[train_mask]\n",
    "x_te = x[test_mask]\n",
    "\n",
    "R_tr = restriction_mat(train_mask)\n",
    "R_te = restriction_mat(test_mask)"
   ]
  },
  {
   "cell_type": "code",
   "execution_count": null,
   "id": "bfc2dedc-c418-4b95-b0b3-1d8e97906fb2",
   "metadata": {},
   "outputs": [],
   "source": [
    "class Network(tNN.Module):\n",
    "    def __init__(self, in_layers, out_layers, H):\n",
    "        super().__init__()\n",
    "        \n",
    "        self.conv1 = nNN.GCNConv(in_layers, H, normalize=True)\n",
    "        self.conv2 = nNN.GCNConv(H, out_layers, normalize=True)\n",
    "    \n",
    "    def forward(self, A, X):\n",
    "        X = torch.relu(self.conv1(A, X))\n",
    "        X = torch.sigmoid(self.conv2(A, X))\n",
    "        return X"
   ]
  },
  {
   "cell_type": "code",
   "execution_count": null,
   "id": "b5d579ae-b40b-431b-a895-cb03e08261cc",
   "metadata": {},
   "outputs": [],
   "source": [
    "# Minimize cross-entropy loss between network output and one-hot categories\n",
    "net = Network(x.shape[1], y_oh.shape[1], 100).to(device)\n",
    "loss = tNN.CrossEntropyLoss()\n",
    "opt = torch.optim.Adam(net.parameters(), lr=0.1)"
   ]
  },
  {
   "cell_type": "code",
   "execution_count": null,
   "id": "1630ca97-c5a0-46b4-b983-381871ed8d93",
   "metadata": {},
   "outputs": [],
   "source": [
    "# Run for 100 training epochs\n",
    "\n",
    "N_e = 100\n",
    "\n",
    "G_tr = R_tr@G@R_tr.T\n",
    "G_te = R_te@G@R_te.T\n",
    "\n",
    "lh_tr = []\n",
    "lh_te = []\n",
    "\n",
    "for i in range(N_e):\n",
    "    opt.zero_grad()\n",
    "    yhat = net(G_tr, x_tr)\n",
    "    l = loss(yhat, y_oh_tr)\n",
    "    l.backward()\n",
    "    opt.step()\n",
    "    \n",
    "    lh_tr.append(l.item())\n",
    "    with torch.no_grad():\n",
    "        lh_te.append(loss(net(G_te, x_te), y_oh_te).item())\n",
    "\n",
    "    if i % 10 == 0 or i == N_e-1:\n",
    "        print(i, l.item())"
   ]
  },
  {
   "cell_type": "code",
   "execution_count": null,
   "id": "5ae01c2a-8634-4586-a368-b3e5cce410a8",
   "metadata": {},
   "outputs": [],
   "source": [
    "# loss curves\n",
    "\n",
    "plt.semilogy(lh_tr, label='Training loss')\n",
    "plt.semilogy(lh_te, label='Testing loss')\n",
    "plt.legend()\n",
    "plt.grid()"
   ]
  },
  {
   "cell_type": "code",
   "execution_count": null,
   "id": "503aac5d-2fa9-432a-90b7-d506ced2f474",
   "metadata": {},
   "outputs": [],
   "source": [
    "print('accuracy (overall)', torch.mean((torch.argmax(net(G, x), dim=1) == y).float()).item())\n",
    "print('accuracy (train)', torch.mean((torch.argmax(net(R_tr@G@R_tr.T, x_tr), dim=1) == y_tr).float()).item())\n",
    "print('accuracy (test)', torch.mean((torch.argmax(net(R_te@G@R_te.T, x_te), dim=1) == y_te).float()).item())"
   ]
  },
  {
   "cell_type": "code",
   "execution_count": null,
   "id": "53e82dd2-416a-462a-afc3-05cd8fa0dd2b",
   "metadata": {},
   "outputs": [],
   "source": []
  }
 ],
 "metadata": {
  "kernelspec": {
   "display_name": "Python 3 (ipykernel)",
   "language": "python",
   "name": "python3"
  },
  "language_info": {
   "codemirror_mode": {
    "name": "ipython",
    "version": 3
   },
   "file_extension": ".py",
   "mimetype": "text/x-python",
   "name": "python",
   "nbconvert_exporter": "python",
   "pygments_lexer": "ipython3",
   "version": "3.10.8"
  }
 },
 "nbformat": 4,
 "nbformat_minor": 5
}
