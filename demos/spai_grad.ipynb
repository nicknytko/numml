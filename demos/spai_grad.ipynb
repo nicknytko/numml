{
 "cells": [
  {
   "cell_type": "code",
   "execution_count": null,
   "id": "5350e50b-62a6-4665-9982-088d7a47f28b",
   "metadata": {},
   "outputs": [],
   "source": [
    "import torch\n",
    "import torch.autograd\n",
    "import numpy as np\n",
    "import matplotlib.pyplot as plt\n",
    "import numml.sparse as sp\n",
    "import numml.krylov as kry"
   ]
  },
  {
   "cell_type": "code",
   "execution_count": null,
   "id": "47429021-b9bc-4b6d-87e6-bb52a82e01e4",
   "metadata": {},
   "outputs": [],
   "source": [
    "# Create our favorite poisson operator\n",
    "\n",
    "N = 8\n",
    "A = sp.eye(N)*2. - sp.eye(N, k=1) - sp.eye(N, k=-1)\n",
    "print(A.to_dense())"
   ]
  },
  {
   "cell_type": "code",
   "execution_count": null,
   "id": "4fd0f424-1bda-4ab9-a6b7-1cdbd17b4573",
   "metadata": {},
   "outputs": [],
   "source": [
    "# Create our starting initial guess to A^{-1}, which we'll be lazy and initialize to A itself\n",
    "\n",
    "Ainv = A.copy() + sp.eye(N, k=2) + sp.eye(N, k=-2)\n",
    "Ainv_start = Ainv.copy()\n",
    "Ainv.requires_grad = True\n",
    "Ainv.to_dense()"
   ]
  },
  {
   "cell_type": "code",
   "execution_count": null,
   "id": "6040f5b7-1e98-482f-88ab-389cf713e7f5",
   "metadata": {
    "tags": []
   },
   "outputs": [],
   "source": [
    "(A@Ainv).to_dense()"
   ]
  },
  {
   "cell_type": "code",
   "execution_count": null,
   "id": "a366553b-427e-4746-b80c-c169d503f218",
   "metadata": {},
   "outputs": [],
   "source": [
    "# Confirm our matmat product even works at all\n",
    "\n",
    "torch.allclose((A@Ainv).to_dense(), A.to_dense() @ Ainv.to_dense())"
   ]
  },
  {
   "cell_type": "code",
   "execution_count": null,
   "id": "44e6a5fc-506a-47aa-80fb-3e6437c4de30",
   "metadata": {
    "tags": []
   },
   "outputs": [],
   "source": [
    "# Optimize || A @ Ainv - I ||_F^2 + || Ainv @ A - I ||_F^2\n",
    "\n",
    "optimizer = torch.optim.Adam([Ainv.data], lr=0.1)\n",
    "lh = []\n",
    "epochs = 300\n",
    "\n",
    "for i in range(epochs):\n",
    "    optimizer.zero_grad()\n",
    "    \n",
    "    loss_AAinv = (((A @ Ainv) - sp.eye(N)) ** 2.).sum()\n",
    "    loss_AinvA = (((Ainv @ A) - sp.eye(N)) ** 2.).sum()\n",
    "    loss = loss_AAinv + loss_AinvA\n",
    "    loss.backward()\n",
    "    \n",
    "    optimizer.step()\n",
    "    \n",
    "    lh.append(loss.item())\n",
    "    if i % 10 == 0 or i == epochs - 1:\n",
    "        print(i, loss.item())"
   ]
  },
  {
   "cell_type": "code",
   "execution_count": null,
   "id": "8b697609-7aa2-46ee-a9ac-80848ba5432f",
   "metadata": {},
   "outputs": [],
   "source": [
    "plt.semilogy(lh)\n",
    "plt.grid()\n",
    "plt.title('Loss history')"
   ]
  },
  {
   "cell_type": "code",
   "execution_count": null,
   "id": "b2216a5a-f244-4763-a917-bcea15ae84fa",
   "metadata": {},
   "outputs": [],
   "source": [
    "(A@Ainv).to_dense()"
   ]
  },
  {
   "cell_type": "code",
   "execution_count": null,
   "id": "fb434465-f19a-4e87-9197-d1091beaa69e",
   "metadata": {},
   "outputs": [],
   "source": [
    "Ainv.to_dense()"
   ]
  },
  {
   "cell_type": "code",
   "execution_count": null,
   "id": "b9380855-187f-486d-897b-9c3a8ffc29b6",
   "metadata": {},
   "outputs": [],
   "source": []
  }
 ],
 "metadata": {
  "kernelspec": {
   "display_name": "Python 3 (ipykernel)",
   "language": "python",
   "name": "python3"
  },
  "language_info": {
   "codemirror_mode": {
    "name": "ipython",
    "version": 3
   },
   "file_extension": ".py",
   "mimetype": "text/x-python",
   "name": "python",
   "nbconvert_exporter": "python",
   "pygments_lexer": "ipython3",
   "version": "3.10.8"
  }
 },
 "nbformat": 4,
 "nbformat_minor": 5
}
