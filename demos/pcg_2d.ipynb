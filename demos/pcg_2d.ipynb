{
 "cells": [
  {
   "cell_type": "code",
   "execution_count": null,
   "id": "5350e50b-62a6-4665-9982-088d7a47f28b",
   "metadata": {},
   "outputs": [],
   "source": [
    "import torch\n",
    "import torch.linalg as tla\n",
    "import numpy as np\n",
    "import matplotlib.pyplot as plt\n",
    "import numml.sparse as sp\n",
    "import numml.krylov\n",
    "import scipy.sparse as scisp"
   ]
  },
  {
   "cell_type": "code",
   "execution_count": null,
   "id": "261d1729-b8bc-442e-b4cf-21284b34c2ed",
   "metadata": {},
   "outputs": [],
   "source": [
    "# Use CUDA if it's available\n",
    "\n",
    "# if torch.cuda.is_available():\n",
    "#     device = torch.device('cuda:0')\n",
    "# else:\n",
    "#     device = torch.device('cpu')\n",
    "\n",
    "# print(f'Using device {device}')\n",
    "device = torch.device('cpu') # this problem is small enough that CPU is faster"
   ]
  },
  {
   "cell_type": "code",
   "execution_count": null,
   "id": "47429021-b9bc-4b6d-87e6-bb52a82e01e4",
   "metadata": {},
   "outputs": [],
   "source": [
    "# Create a 2D poisson operator\n",
    "\n",
    "N_1D = 8\n",
    "A_1D = sp.eye(N_1D)*2. - sp.eye(N_1D, k=1) - sp.eye(N_1D, k=-1)\n",
    "#A_c = A.to(device)\n",
    "A_sp = A_1D.to_scipy_csr()\n",
    "A = sp.SparseCSRTensor(scisp.kron(A_sp, scisp.eye(N_1D)) + scisp.kron(scisp.eye(N_1D), A_sp))\n",
    "A_c = A.to(device)\n",
    "N = N_1D**2"
   ]
  },
  {
   "cell_type": "code",
   "execution_count": null,
   "id": "241c33b3-9e77-413c-b104-bf98acdca864",
   "metadata": {},
   "outputs": [],
   "source": [
    "A.shape"
   ]
  },
  {
   "cell_type": "code",
   "execution_count": null,
   "id": "b8c1b3a6-bd21-4278-8c1f-7820fe4036d4",
   "metadata": {},
   "outputs": [],
   "source": [
    "# # linear forcing term, gives sinusoidal looking u\n",
    "\n",
    "#b = torch.\n",
    "#b_c = b.to(device)\n",
    "\n",
    "b = torch.linspace(-1, 1, N_1D+2)[1:-1]\n",
    "b = torch.meshgrid(b, b)[0].flatten()\n",
    "b_c = b.to(device)\n",
    "\n",
    "print(b.shape)\n",
    "\n",
    "# plt.plot(b, label='rhs')\n",
    "# plt.plot(sp.spsolve(A, b), label='true solution')\n",
    "# plt.plot(numml.krylov.conjugate_gradient(A, b, iterations=15)[0], '--', label='CG soln')\n",
    "# plt.legend()"
   ]
  },
  {
   "cell_type": "code",
   "execution_count": null,
   "id": "aaf79c2b-5d94-414e-8c0c-752b1e56eedf",
   "metadata": {},
   "outputs": [],
   "source": [
    "# Find some preconditioner w/ same sparsity as A\n",
    "# optimize residual of last iterate wrt entries of M\n",
    "\n",
    "#M = A.tril().to(device)\n",
    "M = (sp.eye(N) * 2. + sp.eye(N,k=-1) * 0.1).to(device)\n",
    "M.requires_grad = True\n",
    "\n",
    "optimizer = torch.optim.AdamW([M.data], lr=0.001)\n",
    "epochs = 100_000\n",
    "lh = torch.zeros(epochs)\n",
    "er = torch.zeros(epochs)\n",
    "gamma = 0.7\n",
    "training_it = 3\n",
    "gamma_exp = (gamma ** (training_it - torch.arange(training_it + 1, device=device)))\n",
    "gamma_exp /= tla.norm(gamma_exp, 1)\n",
    "print('Gamma values', gamma_exp)\n",
    "\n",
    "last_it = 0\n",
    "\n",
    "for i in range(epochs):\n",
    "    optimizer.zero_grad()\n",
    "    last_it = i\n",
    "    \n",
    "    x_, res_ = numml.krylov.conjugate_gradient(A_c, b_c, iterations=training_it, M=(M@M.T))\n",
    "    res_ /= tla.norm(b_c)\n",
    "    loss = (gamma_exp[:len(res_)] * torch.log10(1. + res_)).sum()\n",
    "    #loss = res_[-1]\n",
    "    loss.backward()\n",
    "    \n",
    "    if torch.any(torch.isnan(res_)):\n",
    "        print(loss, res_)\n",
    "        break\n",
    "    \n",
    "    if res_[-1].detach().item() < 3e-5:\n",
    "        lh[i] = loss.detach().item()\n",
    "        er[i] = res_[-1].detach().item()\n",
    "        print(f'{i:7g}', f'{loss.item():.3e}', f'{res_[-1].item():.3e}')\n",
    "        break\n",
    "    else:\n",
    "        optimizer.step()\n",
    "    lh[i] = loss.detach().item()\n",
    "    er[i] = res_[-1].detach().item()\n",
    "    \n",
    "    if i % 100 == 0 or i == epochs - 1:\n",
    "        print(f'{i:7g}', f'{loss.item():.3e}', f'{res_[-1].item():.3e}')\n",
    "\n",
    "lh = lh[:last_it]\n",
    "er = er[:last_it]"
   ]
  },
  {
   "cell_type": "code",
   "execution_count": null,
   "id": "488d8403-198f-4d19-805c-4ddcf88c447c",
   "metadata": {},
   "outputs": [],
   "source": [
    "plt.plot(res_.detach())\n",
    "ax2 = plt.gca().twinx()\n",
    "ax2.plot(gamma_exp[:len(res_)], 'tab:orange')"
   ]
  },
  {
   "cell_type": "code",
   "execution_count": null,
   "id": "b2848530-daa7-4150-8634-551219182828",
   "metadata": {},
   "outputs": [],
   "source": [
    "plt.semilogy(lh)\n",
    "ax2 = plt.gca().twinx()\n",
    "ax2.semilogy(er, 'tab:orange')\n",
    "plt.grid()"
   ]
  },
  {
   "cell_type": "code",
   "execution_count": null,
   "id": "e8bb9104-1fcc-4517-8d46-206863023446",
   "metadata": {},
   "outputs": [],
   "source": [
    "x, res = numml.krylov.conjugate_gradient(A_c, b_c, iterations=12)\n",
    "x_m, res_m = numml.krylov.conjugate_gradient(A_c, b_c, M=(M@M.T), iterations=N)\n",
    "\n",
    "res = res.cpu() / tla.norm(b_c)\n",
    "res_m = res_m.detach().cpu() / tla.norm(b_c)"
   ]
  },
  {
   "cell_type": "code",
   "execution_count": null,
   "id": "efc86ebe-fadf-40fa-93e8-f567afc73799",
   "metadata": {},
   "outputs": [],
   "source": [
    "plt.semilogy(res, label='Conjugate Gradient')\n",
    "plt.semilogy(torch.tensor(res_m), label='Optimized PCG')\n",
    "plt.legend()\n",
    "plt.grid()\n",
    "plt.xlabel('Iteration')\n",
    "plt.ylabel('Residual')"
   ]
  },
  {
   "cell_type": "code",
   "execution_count": null,
   "id": "a6aef161-d499-4321-bb67-2053423fb4ab",
   "metadata": {},
   "outputs": [],
   "source": []
  },
  {
   "cell_type": "code",
   "execution_count": null,
   "id": "48886adc-d42e-48ae-9b41-2fb06049dd40",
   "metadata": {},
   "outputs": [],
   "source": []
  }
 ],
 "metadata": {
  "kernelspec": {
   "display_name": "Python 3 (ipykernel)",
   "language": "python",
   "name": "python3"
  },
  "language_info": {
   "codemirror_mode": {
    "name": "ipython",
    "version": 3
   },
   "file_extension": ".py",
   "mimetype": "text/x-python",
   "name": "python",
   "nbconvert_exporter": "python",
   "pygments_lexer": "ipython3",
   "version": "3.10.8"
  }
 },
 "nbformat": 4,
 "nbformat_minor": 5
}
